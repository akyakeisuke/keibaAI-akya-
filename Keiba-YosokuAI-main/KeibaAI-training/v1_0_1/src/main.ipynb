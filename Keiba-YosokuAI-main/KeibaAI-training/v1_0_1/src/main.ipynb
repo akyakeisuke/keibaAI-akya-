{
 "cells": [
  {
   "cell_type": "markdown",
   "metadata": {},
   "source": [
    "# インポート"
   ]
  },
  {
   "cell_type": "code",
   "execution_count": 1,
   "metadata": {},
   "outputs": [],
   "source": [
    "import create_population\n",
    "import preprocessing\n",
    "from feature_engineering import FeatureCreator\n",
    "from feature_engineering_prediction import PredictionFeatureCreator\n",
    "from train import Trainer\n",
    "import prediction\n",
    "from evaluation import Evaluator\n",
    "%load_ext autoreload"
   ]
  },
  {
   "cell_type": "code",
   "execution_count": 13,
   "metadata": {},
   "outputs": [],
   "source": [
    "%autoreload"
   ]
  },
  {
   "cell_type": "markdown",
   "metadata": {},
   "source": [
    "# 学習母集団の作成"
   ]
  },
  {
   "cell_type": "code",
   "execution_count": 5,
   "metadata": {},
   "outputs": [],
   "source": [
    "population = create_population.create(from_=\"2018-01-01\", to_=\"2023-12-31\")"
   ]
  },
  {
   "cell_type": "markdown",
   "metadata": {},
   "source": [
    "# データ加工"
   ]
  },
  {
   "cell_type": "code",
   "execution_count": 3,
   "metadata": {},
   "outputs": [],
   "source": [
    "# レース結果テーブルの前処理\n",
    "results_preprocessed = preprocessing.process_results()"
   ]
  },
  {
   "cell_type": "code",
   "execution_count": 7,
   "metadata": {},
   "outputs": [
    {
     "data": {
      "text/plain": [
       "0"
      ]
     },
     "execution_count": 7,
     "metadata": {},
     "output_type": "execute_result"
    }
   ],
   "source": [
    "# 重複チェック\n",
    "results_preprocessed.duplicated(subset=[\"race_id\", \"horse_id\"]).sum()"
   ]
  },
  {
   "cell_type": "code",
   "execution_count": 4,
   "metadata": {},
   "outputs": [
    {
     "data": {
      "text/plain": [
       "race_id        0\n",
       "horse_id       0\n",
       "jockey_id      0\n",
       "trainer_id     0\n",
       "owner_id       0\n",
       "rank           0\n",
       "umaban         0\n",
       "wakuban        0\n",
       "tansho_odds    0\n",
       "popularity     0\n",
       "impost         0\n",
       "sex            0\n",
       "age            0\n",
       "weight         0\n",
       "weight_diff    0\n",
       "n_horses       0\n",
       "dtype: int64"
      ]
     },
     "execution_count": 4,
     "metadata": {},
     "output_type": "execute_result"
    }
   ],
   "source": [
    "# 欠損チェック\n",
    "results_preprocessed.isnull().sum()"
   ]
  },
  {
   "cell_type": "code",
   "execution_count": 2,
   "metadata": {},
   "outputs": [],
   "source": [
    "# 馬の過去成績テーブルの加工\n",
    "horse_results_preprocessed = preprocessing.process_horse_results()"
   ]
  },
  {
   "cell_type": "code",
   "execution_count": 3,
   "metadata": {},
   "outputs": [
    {
     "data": {
      "text/plain": [
       "horse_id             0\n",
       "date                 0\n",
       "rank                 0\n",
       "prize                0\n",
       "rank_diff          735\n",
       "weather            616\n",
       "race_type            0\n",
       "course_len           0\n",
       "ground_state         0\n",
       "race_class      358211\n",
       "n_horses            10\n",
       "time               385\n",
       "win                  0\n",
       "rentai               0\n",
       "show                 0\n",
       "place           395008\n",
       "dtype: int64"
      ]
     },
     "execution_count": 3,
     "metadata": {},
     "output_type": "execute_result"
    }
   ],
   "source": [
    "# 欠損チェック\n",
    "horse_results_preprocessed.isnull().sum()"
   ]
  },
  {
   "cell_type": "code",
   "execution_count": 4,
   "metadata": {},
   "outputs": [
    {
     "data": {
      "text/plain": [
       "0"
      ]
     },
     "execution_count": 4,
     "metadata": {},
     "output_type": "execute_result"
    }
   ],
   "source": [
    "# 重複チェック\n",
    "horse_results_preprocessed.duplicated(subset=[\"horse_id\", \"date\"]).sum()"
   ]
  },
  {
   "cell_type": "code",
   "execution_count": 2,
   "metadata": {},
   "outputs": [],
   "source": [
    "# レース情報テーブルの前処理\n",
    "race_info_preprocessed = preprocessing.process_race_info()"
   ]
  },
  {
   "cell_type": "code",
   "execution_count": 9,
   "metadata": {},
   "outputs": [],
   "source": [
    "# 騎手リーディングテーブルの前処理\n",
    "jockey_leading_preprocessed = preprocessing.process_jockey_leading()"
   ]
  },
  {
   "cell_type": "code",
   "execution_count": 10,
   "metadata": {},
   "outputs": [],
   "source": [
    "# 調教師リーディングテーブルの前処理\n",
    "trainer_leading_preprocessed = preprocessing.process_trainer_leading()"
   ]
  },
  {
   "cell_type": "code",
   "execution_count": 32,
   "metadata": {},
   "outputs": [],
   "source": [
    "# 血統テーブルの前処理\n",
    "peds_preprocessed = preprocessing.process_peds()"
   ]
  },
  {
   "cell_type": "code",
   "execution_count": 33,
   "metadata": {},
   "outputs": [],
   "source": [
    "# 種牡馬リーディングテーブルの前処理\n",
    "sire_leading_preprocessed = preprocessing.process_sire_leading()"
   ]
  },
  {
   "cell_type": "code",
   "execution_count": 2,
   "metadata": {},
   "outputs": [],
   "source": [
    "# 払い戻しテーブルの前処理\n",
    "return_tables_preprocessed = preprocessing.process_return_tables()"
   ]
  },
  {
   "cell_type": "markdown",
   "metadata": {},
   "source": [
    "#  特徴量作成"
   ]
  },
  {
   "cell_type": "code",
   "execution_count": 5,
   "metadata": {},
   "outputs": [
    {
     "data": {
      "application/vnd.jupyter.widget-view+json": {
       "model_id": "6d01212936c3487b8021e6950f542a9e",
       "version_major": 2,
       "version_minor": 0
      },
      "text/plain": [
       "agg_horse_n_races_relative:   0%|          | 0/5 [00:00<?, ?it/s]"
      ]
     },
     "metadata": {},
     "output_type": "display_data"
    },
    {
     "name": "stdout",
     "output_type": "stream",
     "text": [
      "running agg_interval()...\n",
      "running agg_jockey()...\n",
      "running agg_trainer()...\n"
     ]
    },
    {
     "data": {
      "application/vnd.jupyter.widget-view+json": {
       "model_id": "9e54bab7454f47c08fab3437943ebfc6",
       "version_major": 2,
       "version_minor": 0
      },
      "text/plain": [
       "agg_horse_per_course_len:   0%|          | 0/6 [00:00<?, ?it/s]"
      ]
     },
     "metadata": {},
     "output_type": "display_data"
    },
    {
     "data": {
      "application/vnd.jupyter.widget-view+json": {
       "model_id": "a20ecdba05aa4b8383f2b7c947ef9410",
       "version_major": 2,
       "version_minor": 0
      },
      "text/plain": [
       "agg_horse_per_ground_state_race_type:   0%|          | 0/6 [00:00<?, ?it/s]"
      ]
     },
     "metadata": {},
     "output_type": "display_data"
    },
    {
     "data": {
      "application/vnd.jupyter.widget-view+json": {
       "model_id": "bf5608e116eb41069842883fefbe859e",
       "version_major": 2,
       "version_minor": 0
      },
      "text/plain": [
       "agg_horse_per_race_class:   0%|          | 0/6 [00:00<?, ?it/s]"
      ]
     },
     "metadata": {},
     "output_type": "display_data"
    },
    {
     "data": {
      "application/vnd.jupyter.widget-view+json": {
       "model_id": "fe4431bfefab478388f498e7c4ea08e6",
       "version_major": 2,
       "version_minor": 0
      },
      "text/plain": [
       "agg_horse_per_race_type:   0%|          | 0/6 [00:00<?, ?it/s]"
      ]
     },
     "metadata": {},
     "output_type": "display_data"
    },
    {
     "name": "stdout",
     "output_type": "stream",
     "text": [
      "running agg_sire()...\n",
      "running cross_feature()...\n",
      "merging all features...\n"
     ]
    }
   ],
   "source": [
    "fc = FeatureCreator()\n",
    "features = fc.create_features()"
   ]
  },
  {
   "cell_type": "code",
   "execution_count": 6,
   "metadata": {},
   "outputs": [
    {
     "data": {
      "text/plain": [
       "0"
      ]
     },
     "execution_count": 6,
     "metadata": {},
     "output_type": "execute_result"
    }
   ],
   "source": [
    "# 重複チェック\n",
    "features.duplicated(subset=[\"race_id\", \"horse_id\"]).sum()"
   ]
  },
  {
   "cell_type": "markdown",
   "metadata": {},
   "source": [
    "# 学習"
   ]
  },
  {
   "cell_type": "code",
   "execution_count": 7,
   "metadata": {},
   "outputs": [
    {
     "name": "stdout",
     "output_type": "stream",
     "text": [
      "Training until validation scores don't improve for 100 rounds\n",
      "[100]\tvalid_0's binary_logloss: 0.21432\n",
      "[200]\tvalid_0's binary_logloss: 0.205778\n",
      "[300]\tvalid_0's binary_logloss: 0.20358\n",
      "[400]\tvalid_0's binary_logloss: 0.202893\n",
      "[500]\tvalid_0's binary_logloss: 0.202671\n",
      "[600]\tvalid_0's binary_logloss: 0.202533\n",
      "[700]\tvalid_0's binary_logloss: 0.20245\n",
      "[800]\tvalid_0's binary_logloss: 0.202412\n",
      "[900]\tvalid_0's binary_logloss: 0.202424\n",
      "Early stopping, best iteration is:\n",
      "[861]\tvalid_0's binary_logloss: 0.202384\n",
      "-------------------- result --------------------\n",
      "test_df's binary_logloss: 0.20518699585201705\n"
     ]
    }
   ],
   "source": [
    "trainer = Trainer()\n",
    "evaluation_df = trainer.run(\n",
    "    valid_start_date=\"2022-10-01\",\n",
    "    test_start_date=\"2023-01-01\"\n",
    ")"
   ]
  },
  {
   "cell_type": "code",
   "execution_count": 8,
   "metadata": {},
   "outputs": [
    {
     "name": "stdout",
     "output_type": "stream",
     "text": [
      "Training until validation scores don't improve for 100 rounds\n",
      "[100]\tvalid_0's binary_logloss: 0.233648\n",
      "[200]\tvalid_0's binary_logloss: 0.226911\n",
      "[300]\tvalid_0's binary_logloss: 0.224526\n",
      "[400]\tvalid_0's binary_logloss: 0.223321\n",
      "[500]\tvalid_0's binary_logloss: 0.222674\n",
      "[600]\tvalid_0's binary_logloss: 0.222304\n",
      "[700]\tvalid_0's binary_logloss: 0.221998\n",
      "[800]\tvalid_0's binary_logloss: 0.221903\n",
      "[900]\tvalid_0's binary_logloss: 0.221755\n",
      "[1000]\tvalid_0's binary_logloss: 0.221588\n",
      "[1100]\tvalid_0's binary_logloss: 0.221476\n",
      "[1200]\tvalid_0's binary_logloss: 0.221327\n",
      "[1300]\tvalid_0's binary_logloss: 0.221258\n",
      "[1400]\tvalid_0's binary_logloss: 0.221205\n",
      "[1500]\tvalid_0's binary_logloss: 0.221191\n",
      "[1600]\tvalid_0's binary_logloss: 0.221169\n",
      "[1700]\tvalid_0's binary_logloss: 0.221107\n",
      "[1800]\tvalid_0's binary_logloss: 0.221077\n",
      "[1900]\tvalid_0's binary_logloss: 0.221051\n",
      "[2000]\tvalid_0's binary_logloss: 0.22101\n",
      "[2100]\tvalid_0's binary_logloss: 0.221063\n",
      "Early stopping, best iteration is:\n",
      "[2024]\tvalid_0's binary_logloss: 0.220996\n",
      "-------------------- result --------------------\n",
      "test_df's binary_logloss: 0.22003568575281704\n"
     ]
    }
   ],
   "source": [
    "# オッズと人気を特徴量から省いた場合\n",
    "trainer = Trainer(config_filepath=\"config_odds_removed.yaml\")\n",
    "evaluation_df = trainer.run(\n",
    "    valid_start_date=\"2022-10-01\",\n",
    "    test_start_date=\"2023-01-01\",\n",
    "    importance_filename=\"importance_odds_removed\",\n",
    "    model_filename=\"model_odds_removed.pkl\",\n",
    "    evaluation_filename=\"evaluation_odds_removed.csv\"\n",
    ")"
   ]
  },
  {
   "cell_type": "markdown",
   "metadata": {},
   "source": [
    "# 精度評価"
   ]
  },
  {
   "cell_type": "code",
   "execution_count": 9,
   "metadata": {},
   "outputs": [
    {
     "data": {
      "text/html": [
       "<div>\n",
       "<style scoped>\n",
       "    .dataframe tbody tr th:only-of-type {\n",
       "        vertical-align: middle;\n",
       "    }\n",
       "\n",
       "    .dataframe tbody tr th {\n",
       "        vertical-align: top;\n",
       "    }\n",
       "\n",
       "    .dataframe thead th {\n",
       "        text-align: right;\n",
       "    }\n",
       "</style>\n",
       "<table border=\"1\" class=\"dataframe\">\n",
       "  <thead>\n",
       "    <tr style=\"text-align: right;\">\n",
       "      <th></th>\n",
       "      <th>topn</th>\n",
       "      <th>bet_type</th>\n",
       "      <th>hitrate_v3_0_7</th>\n",
       "      <th>returnrate_v3_0_7</th>\n",
       "    </tr>\n",
       "  </thead>\n",
       "  <tbody>\n",
       "    <tr>\n",
       "      <th>0</th>\n",
       "      <td>1</td>\n",
       "      <td>単勝</td>\n",
       "      <td>0.339120</td>\n",
       "      <td>0.827315</td>\n",
       "    </tr>\n",
       "    <tr>\n",
       "      <th>1</th>\n",
       "      <td>1</td>\n",
       "      <td>複勝</td>\n",
       "      <td>0.642940</td>\n",
       "      <td>0.854369</td>\n",
       "    </tr>\n",
       "    <tr>\n",
       "      <th>0</th>\n",
       "      <td>2</td>\n",
       "      <td>ワイド</td>\n",
       "      <td>0.302951</td>\n",
       "      <td>0.787297</td>\n",
       "    </tr>\n",
       "    <tr>\n",
       "      <th>1</th>\n",
       "      <td>2</td>\n",
       "      <td>単勝</td>\n",
       "      <td>0.530671</td>\n",
       "      <td>0.811039</td>\n",
       "    </tr>\n",
       "    <tr>\n",
       "      <th>2</th>\n",
       "      <td>2</td>\n",
       "      <td>複勝</td>\n",
       "      <td>0.847222</td>\n",
       "      <td>0.841421</td>\n",
       "    </tr>\n",
       "    <tr>\n",
       "      <th>3</th>\n",
       "      <td>2</td>\n",
       "      <td>馬単</td>\n",
       "      <td>0.148148</td>\n",
       "      <td>0.742332</td>\n",
       "    </tr>\n",
       "    <tr>\n",
       "      <th>4</th>\n",
       "      <td>2</td>\n",
       "      <td>馬連</td>\n",
       "      <td>0.148148</td>\n",
       "      <td>0.770718</td>\n",
       "    </tr>\n",
       "    <tr>\n",
       "      <th>0</th>\n",
       "      <td>3</td>\n",
       "      <td>ワイド</td>\n",
       "      <td>0.548900</td>\n",
       "      <td>0.811246</td>\n",
       "    </tr>\n",
       "    <tr>\n",
       "      <th>1</th>\n",
       "      <td>3</td>\n",
       "      <td>三連単</td>\n",
       "      <td>0.089410</td>\n",
       "      <td>0.700516</td>\n",
       "    </tr>\n",
       "    <tr>\n",
       "      <th>2</th>\n",
       "      <td>3</td>\n",
       "      <td>三連複</td>\n",
       "      <td>0.089410</td>\n",
       "      <td>0.799624</td>\n",
       "    </tr>\n",
       "    <tr>\n",
       "      <th>3</th>\n",
       "      <td>3</td>\n",
       "      <td>単勝</td>\n",
       "      <td>0.654514</td>\n",
       "      <td>0.787471</td>\n",
       "    </tr>\n",
       "    <tr>\n",
       "      <th>4</th>\n",
       "      <td>3</td>\n",
       "      <td>複勝</td>\n",
       "      <td>0.933160</td>\n",
       "      <td>0.832668</td>\n",
       "    </tr>\n",
       "    <tr>\n",
       "      <th>5</th>\n",
       "      <td>3</td>\n",
       "      <td>馬単</td>\n",
       "      <td>0.316262</td>\n",
       "      <td>0.768957</td>\n",
       "    </tr>\n",
       "    <tr>\n",
       "      <th>6</th>\n",
       "      <td>3</td>\n",
       "      <td>馬連</td>\n",
       "      <td>0.316262</td>\n",
       "      <td>0.795698</td>\n",
       "    </tr>\n",
       "  </tbody>\n",
       "</table>\n",
       "</div>"
      ],
      "text/plain": [
       "   topn bet_type  hitrate_v3_0_7  returnrate_v3_0_7\n",
       "0     1       単勝        0.339120           0.827315\n",
       "1     1       複勝        0.642940           0.854369\n",
       "0     2      ワイド        0.302951           0.787297\n",
       "1     2       単勝        0.530671           0.811039\n",
       "2     2       複勝        0.847222           0.841421\n",
       "3     2       馬単        0.148148           0.742332\n",
       "4     2       馬連        0.148148           0.770718\n",
       "0     3      ワイド        0.548900           0.811246\n",
       "1     3      三連単        0.089410           0.700516\n",
       "2     3      三連複        0.089410           0.799624\n",
       "3     3       単勝        0.654514           0.787471\n",
       "4     3       複勝        0.933160           0.832668\n",
       "5     3       馬単        0.316262           0.768957\n",
       "6     3       馬連        0.316262           0.795698"
      ]
     },
     "execution_count": 9,
     "metadata": {},
     "output_type": "execute_result"
    }
   ],
   "source": [
    "evaluator = Evaluator()\n",
    "summary_df = evaluator.summarize_box_exp(exp_name=\"v3_0_7\")\n",
    "summary_df"
   ]
  },
  {
   "cell_type": "code",
   "execution_count": 10,
   "metadata": {},
   "outputs": [
    {
     "data": {
      "text/html": [
       "<div>\n",
       "<style scoped>\n",
       "    .dataframe tbody tr th:only-of-type {\n",
       "        vertical-align: middle;\n",
       "    }\n",
       "\n",
       "    .dataframe tbody tr th {\n",
       "        vertical-align: top;\n",
       "    }\n",
       "\n",
       "    .dataframe thead th {\n",
       "        text-align: right;\n",
       "    }\n",
       "</style>\n",
       "<table border=\"1\" class=\"dataframe\">\n",
       "  <thead>\n",
       "    <tr style=\"text-align: right;\">\n",
       "      <th></th>\n",
       "      <th>topn</th>\n",
       "      <th>bet_type</th>\n",
       "      <th>hitrate_v3_0_7</th>\n",
       "      <th>returnrate_v3_0_7</th>\n",
       "    </tr>\n",
       "  </thead>\n",
       "  <tbody>\n",
       "    <tr>\n",
       "      <th>0</th>\n",
       "      <td>1</td>\n",
       "      <td>単勝</td>\n",
       "      <td>0.285880</td>\n",
       "      <td>0.795255</td>\n",
       "    </tr>\n",
       "    <tr>\n",
       "      <th>1</th>\n",
       "      <td>1</td>\n",
       "      <td>複勝</td>\n",
       "      <td>0.591435</td>\n",
       "      <td>0.834462</td>\n",
       "    </tr>\n",
       "    <tr>\n",
       "      <th>0</th>\n",
       "      <td>2</td>\n",
       "      <td>ワイド</td>\n",
       "      <td>0.262442</td>\n",
       "      <td>0.766435</td>\n",
       "    </tr>\n",
       "    <tr>\n",
       "      <th>1</th>\n",
       "      <td>2</td>\n",
       "      <td>単勝</td>\n",
       "      <td>0.463542</td>\n",
       "      <td>0.767549</td>\n",
       "    </tr>\n",
       "    <tr>\n",
       "      <th>2</th>\n",
       "      <td>2</td>\n",
       "      <td>複勝</td>\n",
       "      <td>0.812789</td>\n",
       "      <td>0.823655</td>\n",
       "    </tr>\n",
       "    <tr>\n",
       "      <th>3</th>\n",
       "      <td>2</td>\n",
       "      <td>馬単</td>\n",
       "      <td>0.119502</td>\n",
       "      <td>0.732856</td>\n",
       "    </tr>\n",
       "    <tr>\n",
       "      <th>4</th>\n",
       "      <td>2</td>\n",
       "      <td>馬連</td>\n",
       "      <td>0.119502</td>\n",
       "      <td>0.754630</td>\n",
       "    </tr>\n",
       "    <tr>\n",
       "      <th>0</th>\n",
       "      <td>3</td>\n",
       "      <td>ワイド</td>\n",
       "      <td>0.485532</td>\n",
       "      <td>0.772020</td>\n",
       "    </tr>\n",
       "    <tr>\n",
       "      <th>1</th>\n",
       "      <td>3</td>\n",
       "      <td>三連単</td>\n",
       "      <td>0.069155</td>\n",
       "      <td>0.652011</td>\n",
       "    </tr>\n",
       "    <tr>\n",
       "      <th>2</th>\n",
       "      <td>3</td>\n",
       "      <td>三連複</td>\n",
       "      <td>0.069155</td>\n",
       "      <td>0.727286</td>\n",
       "    </tr>\n",
       "    <tr>\n",
       "      <th>3</th>\n",
       "      <td>3</td>\n",
       "      <td>単勝</td>\n",
       "      <td>0.592014</td>\n",
       "      <td>0.774470</td>\n",
       "    </tr>\n",
       "    <tr>\n",
       "      <th>4</th>\n",
       "      <td>3</td>\n",
       "      <td>複勝</td>\n",
       "      <td>0.899306</td>\n",
       "      <td>0.807407</td>\n",
       "    </tr>\n",
       "    <tr>\n",
       "      <th>5</th>\n",
       "      <td>3</td>\n",
       "      <td>馬単</td>\n",
       "      <td>0.270255</td>\n",
       "      <td>0.768051</td>\n",
       "    </tr>\n",
       "    <tr>\n",
       "      <th>6</th>\n",
       "      <td>3</td>\n",
       "      <td>馬連</td>\n",
       "      <td>0.270255</td>\n",
       "      <td>0.793769</td>\n",
       "    </tr>\n",
       "  </tbody>\n",
       "</table>\n",
       "</div>"
      ],
      "text/plain": [
       "   topn bet_type  hitrate_v3_0_7  returnrate_v3_0_7\n",
       "0     1       単勝        0.285880           0.795255\n",
       "1     1       複勝        0.591435           0.834462\n",
       "0     2      ワイド        0.262442           0.766435\n",
       "1     2       単勝        0.463542           0.767549\n",
       "2     2       複勝        0.812789           0.823655\n",
       "3     2       馬単        0.119502           0.732856\n",
       "4     2       馬連        0.119502           0.754630\n",
       "0     3      ワイド        0.485532           0.772020\n",
       "1     3      三連単        0.069155           0.652011\n",
       "2     3      三連複        0.069155           0.727286\n",
       "3     3       単勝        0.592014           0.774470\n",
       "4     3       複勝        0.899306           0.807407\n",
       "5     3       馬単        0.270255           0.768051\n",
       "6     3       馬連        0.270255           0.793769"
      ]
     },
     "execution_count": 10,
     "metadata": {},
     "output_type": "execute_result"
    }
   ],
   "source": [
    "# オッズと人気を特徴量から省いた場合\n",
    "evaluator = Evaluator(evaluation_filename=\"evaluation_odds_removed.csv\")\n",
    "summary_df = evaluator.summarize_box_exp(exp_name=\"v3_0_7\")\n",
    "summary_df"
   ]
  },
  {
   "cell_type": "markdown",
   "metadata": {},
   "source": [
    "# 予測"
   ]
  },
  {
   "cell_type": "markdown",
   "metadata": {},
   "source": [
    "## 事前準備\n",
    "**当日出走馬が確定した時点**で実行できる"
   ]
  },
  {
   "cell_type": "code",
   "execution_count": 16,
   "metadata": {},
   "outputs": [],
   "source": [
    "# 当日出走馬の過去成績テーブルの前処理\n",
    "horse_results_preprocessed = preprocessing.process_horse_results(\n",
    "    input_filename=\"horse_results_prediction.csv\",\n",
    "    output_filename=\"horse_results_prediction.csv\"\n",
    ")"
   ]
  },
  {
   "cell_type": "code",
   "execution_count": 11,
   "metadata": {},
   "outputs": [],
   "source": [
    "# 当日出走馬の血統テーブルの前処理\n",
    "peds_preprocessed = preprocessing.process_peds(\n",
    "    input_filename=\"peds_prediction.csv\",\n",
    "    output_filename=\"peds_prediction.csv\"\n",
    ")"
   ]
  },
  {
   "cell_type": "code",
   "execution_count": 16,
   "metadata": {},
   "outputs": [],
   "source": [
    "%autoreload"
   ]
  },
  {
   "cell_type": "code",
   "execution_count": 17,
   "metadata": {},
   "outputs": [
    {
     "data": {
      "application/vnd.jupyter.widget-view+json": {
       "model_id": "15f10a63e5f64ae59a688214dedcfce0",
       "version_major": 2,
       "version_minor": 0
      },
      "text/plain": [
       "agg_horse_n_races_relative:   0%|          | 0/5 [00:00<?, ?it/s]"
      ]
     },
     "metadata": {},
     "output_type": "display_data"
    },
    {
     "name": "stdout",
     "output_type": "stream",
     "text": [
      "running agg_interval()...\n"
     ]
    }
   ],
   "source": [
    "pfc = PredictionFeatureCreator()\n",
    "# 過去成績集計は事前に行うことができる\n",
    "pfc.create_baselog()\n",
    "pfc.agg_horse_n_races()\n",
    "pfc.agg_horse_n_races_relative()\n",
    "pfc.agg_interval()"
   ]
  },
  {
   "cell_type": "markdown",
   "metadata": {},
   "source": [
    "## 当日の予測処理\n",
    "レース直前出走直前に実行する"
   ]
  },
  {
   "cell_type": "code",
   "execution_count": 18,
   "metadata": {},
   "outputs": [
    {
     "name": "stdout",
     "output_type": "stream",
     "text": [
      "fetching shubuta page html...\n"
     ]
    },
    {
     "name": "stderr",
     "output_type": "stream",
     "text": [
      "/Users/chiyoda/repositories/keibaAI-v3-yt/v3_0_7/src/feature_engineering_prediction.py:164: FutureWarning: Passing literal html to 'read_html' is deprecated and will be removed in a future version. To read from a literal string, wrap it in a 'StringIO' object.\n",
      "  df = pd.read_html(html)[0]\n"
     ]
    },
    {
     "data": {
      "application/vnd.jupyter.widget-view+json": {
       "model_id": "d87e496654744698af7e47adc96d371b",
       "version_major": 2,
       "version_minor": 0
      },
      "text/plain": [
       "agg_horse_per_course_len:   0%|          | 0/6 [00:00<?, ?it/s]"
      ]
     },
     "metadata": {},
     "output_type": "display_data"
    },
    {
     "data": {
      "application/vnd.jupyter.widget-view+json": {
       "model_id": "c762c950dc714b529674d4a16c692103",
       "version_major": 2,
       "version_minor": 0
      },
      "text/plain": [
       "agg_horse_per_ground_state_race_type:   0%|          | 0/6 [00:00<?, ?it/s]"
      ]
     },
     "metadata": {},
     "output_type": "display_data"
    },
    {
     "data": {
      "application/vnd.jupyter.widget-view+json": {
       "model_id": "ff48b5a8327d45d9ae453f12a6df2a69",
       "version_major": 2,
       "version_minor": 0
      },
      "text/plain": [
       "agg_horse_per_race_class:   0%|          | 0/6 [00:00<?, ?it/s]"
      ]
     },
     "metadata": {},
     "output_type": "display_data"
    },
    {
     "data": {
      "application/vnd.jupyter.widget-view+json": {
       "model_id": "c6fe672d46b446e5a12c7cd1415b08e1",
       "version_major": 2,
       "version_minor": 0
      },
      "text/plain": [
       "agg_horse_per_race_type:   0%|          | 0/6 [00:00<?, ?it/s]"
      ]
     },
     "metadata": {},
     "output_type": "display_data"
    },
    {
     "name": "stdout",
     "output_type": "stream",
     "text": [
      "running agg_jockey()...\n",
      "running agg_trainer()...\n",
      "running agg_sire()...\n",
      "running cross_feature()...\n",
      "merging all features...\n"
     ]
    }
   ],
   "source": [
    "# 特徴量の更新\n",
    "features = pfc.create_features(\n",
    "    race_id=\"202405030101\",  # 予測するレースidを指定\n",
    "    skip_agg_horse=True  # 事前に集計した場合はスキップできる\n",
    ")"
   ]
  },
  {
   "cell_type": "code",
   "execution_count": 19,
   "metadata": {},
   "outputs": [
    {
     "data": {
      "text/html": [
       "<div>\n",
       "<style scoped>\n",
       "    .dataframe tbody tr th:only-of-type {\n",
       "        vertical-align: middle;\n",
       "    }\n",
       "\n",
       "    .dataframe tbody tr th {\n",
       "        vertical-align: top;\n",
       "    }\n",
       "\n",
       "    .dataframe thead th {\n",
       "        text-align: right;\n",
       "    }\n",
       "</style>\n",
       "<table border=\"1\" class=\"dataframe\">\n",
       "  <thead>\n",
       "    <tr style=\"text-align: right;\">\n",
       "      <th></th>\n",
       "      <th>race_id</th>\n",
       "      <th>umaban</th>\n",
       "      <th>tansho_odds</th>\n",
       "      <th>popularity</th>\n",
       "      <th>pred</th>\n",
       "    </tr>\n",
       "  </thead>\n",
       "  <tbody>\n",
       "    <tr>\n",
       "      <th>0</th>\n",
       "      <td>202405030101</td>\n",
       "      <td>1</td>\n",
       "      <td>3.1</td>\n",
       "      <td>1</td>\n",
       "      <td>0.305443</td>\n",
       "    </tr>\n",
       "    <tr>\n",
       "      <th>3</th>\n",
       "      <td>202405030101</td>\n",
       "      <td>4</td>\n",
       "      <td>3.5</td>\n",
       "      <td>2</td>\n",
       "      <td>0.227912</td>\n",
       "    </tr>\n",
       "    <tr>\n",
       "      <th>1</th>\n",
       "      <td>202405030101</td>\n",
       "      <td>2</td>\n",
       "      <td>5.1</td>\n",
       "      <td>3</td>\n",
       "      <td>0.154929</td>\n",
       "    </tr>\n",
       "    <tr>\n",
       "      <th>6</th>\n",
       "      <td>202405030101</td>\n",
       "      <td>7</td>\n",
       "      <td>6.4</td>\n",
       "      <td>4</td>\n",
       "      <td>0.123869</td>\n",
       "    </tr>\n",
       "    <tr>\n",
       "      <th>8</th>\n",
       "      <td>202405030101</td>\n",
       "      <td>9</td>\n",
       "      <td>7.5</td>\n",
       "      <td>5</td>\n",
       "      <td>0.110189</td>\n",
       "    </tr>\n",
       "    <tr>\n",
       "      <th>4</th>\n",
       "      <td>202405030101</td>\n",
       "      <td>5</td>\n",
       "      <td>10.0</td>\n",
       "      <td>6</td>\n",
       "      <td>0.085866</td>\n",
       "    </tr>\n",
       "    <tr>\n",
       "      <th>9</th>\n",
       "      <td>202405030101</td>\n",
       "      <td>10</td>\n",
       "      <td>19.9</td>\n",
       "      <td>7</td>\n",
       "      <td>0.047380</td>\n",
       "    </tr>\n",
       "    <tr>\n",
       "      <th>2</th>\n",
       "      <td>202405030101</td>\n",
       "      <td>3</td>\n",
       "      <td>121.9</td>\n",
       "      <td>8</td>\n",
       "      <td>0.005812</td>\n",
       "    </tr>\n",
       "    <tr>\n",
       "      <th>5</th>\n",
       "      <td>202405030101</td>\n",
       "      <td>6</td>\n",
       "      <td>146.9</td>\n",
       "      <td>9</td>\n",
       "      <td>0.005297</td>\n",
       "    </tr>\n",
       "    <tr>\n",
       "      <th>7</th>\n",
       "      <td>202405030101</td>\n",
       "      <td>8</td>\n",
       "      <td>163.3</td>\n",
       "      <td>10</td>\n",
       "      <td>0.004196</td>\n",
       "    </tr>\n",
       "  </tbody>\n",
       "</table>\n",
       "</div>"
      ],
      "text/plain": [
       "        race_id  umaban  tansho_odds  popularity      pred\n",
       "0  202405030101       1          3.1           1  0.305443\n",
       "3  202405030101       4          3.5           2  0.227912\n",
       "1  202405030101       2          5.1           3  0.154929\n",
       "6  202405030101       7          6.4           4  0.123869\n",
       "8  202405030101       9          7.5           5  0.110189\n",
       "4  202405030101       5         10.0           6  0.085866\n",
       "9  202405030101      10         19.9           7  0.047380\n",
       "2  202405030101       3        121.9           8  0.005812\n",
       "5  202405030101       6        146.9           9  0.005297\n",
       "7  202405030101       8        163.3          10  0.004196"
      ]
     },
     "execution_count": 19,
     "metadata": {},
     "output_type": "execute_result"
    }
   ],
   "source": [
    "# 予測\n",
    "prediction.predict(features)"
   ]
  },
  {
   "cell_type": "code",
   "execution_count": 20,
   "metadata": {},
   "outputs": [
    {
     "data": {
      "text/html": [
       "<div>\n",
       "<style scoped>\n",
       "    .dataframe tbody tr th:only-of-type {\n",
       "        vertical-align: middle;\n",
       "    }\n",
       "\n",
       "    .dataframe tbody tr th {\n",
       "        vertical-align: top;\n",
       "    }\n",
       "\n",
       "    .dataframe thead th {\n",
       "        text-align: right;\n",
       "    }\n",
       "</style>\n",
       "<table border=\"1\" class=\"dataframe\">\n",
       "  <thead>\n",
       "    <tr style=\"text-align: right;\">\n",
       "      <th></th>\n",
       "      <th>race_id</th>\n",
       "      <th>umaban</th>\n",
       "      <th>tansho_odds</th>\n",
       "      <th>popularity</th>\n",
       "      <th>pred</th>\n",
       "    </tr>\n",
       "  </thead>\n",
       "  <tbody>\n",
       "    <tr>\n",
       "      <th>8</th>\n",
       "      <td>202405030101</td>\n",
       "      <td>9</td>\n",
       "      <td>7.5</td>\n",
       "      <td>5</td>\n",
       "      <td>0.116449</td>\n",
       "    </tr>\n",
       "    <tr>\n",
       "      <th>3</th>\n",
       "      <td>202405030101</td>\n",
       "      <td>4</td>\n",
       "      <td>3.5</td>\n",
       "      <td>2</td>\n",
       "      <td>0.080595</td>\n",
       "    </tr>\n",
       "    <tr>\n",
       "      <th>4</th>\n",
       "      <td>202405030101</td>\n",
       "      <td>5</td>\n",
       "      <td>10.0</td>\n",
       "      <td>6</td>\n",
       "      <td>0.068667</td>\n",
       "    </tr>\n",
       "    <tr>\n",
       "      <th>0</th>\n",
       "      <td>202405030101</td>\n",
       "      <td>1</td>\n",
       "      <td>3.1</td>\n",
       "      <td>1</td>\n",
       "      <td>0.067486</td>\n",
       "    </tr>\n",
       "    <tr>\n",
       "      <th>2</th>\n",
       "      <td>202405030101</td>\n",
       "      <td>3</td>\n",
       "      <td>121.9</td>\n",
       "      <td>8</td>\n",
       "      <td>0.056033</td>\n",
       "    </tr>\n",
       "    <tr>\n",
       "      <th>1</th>\n",
       "      <td>202405030101</td>\n",
       "      <td>2</td>\n",
       "      <td>5.1</td>\n",
       "      <td>3</td>\n",
       "      <td>0.054856</td>\n",
       "    </tr>\n",
       "    <tr>\n",
       "      <th>5</th>\n",
       "      <td>202405030101</td>\n",
       "      <td>6</td>\n",
       "      <td>146.9</td>\n",
       "      <td>9</td>\n",
       "      <td>0.047228</td>\n",
       "    </tr>\n",
       "    <tr>\n",
       "      <th>6</th>\n",
       "      <td>202405030101</td>\n",
       "      <td>7</td>\n",
       "      <td>6.4</td>\n",
       "      <td>4</td>\n",
       "      <td>0.044341</td>\n",
       "    </tr>\n",
       "    <tr>\n",
       "      <th>9</th>\n",
       "      <td>202405030101</td>\n",
       "      <td>10</td>\n",
       "      <td>19.9</td>\n",
       "      <td>7</td>\n",
       "      <td>0.037462</td>\n",
       "    </tr>\n",
       "    <tr>\n",
       "      <th>7</th>\n",
       "      <td>202405030101</td>\n",
       "      <td>8</td>\n",
       "      <td>163.3</td>\n",
       "      <td>10</td>\n",
       "      <td>0.037417</td>\n",
       "    </tr>\n",
       "  </tbody>\n",
       "</table>\n",
       "</div>"
      ],
      "text/plain": [
       "        race_id  umaban  tansho_odds  popularity      pred\n",
       "8  202405030101       9          7.5           5  0.116449\n",
       "3  202405030101       4          3.5           2  0.080595\n",
       "4  202405030101       5         10.0           6  0.068667\n",
       "0  202405030101       1          3.1           1  0.067486\n",
       "2  202405030101       3        121.9           8  0.056033\n",
       "1  202405030101       2          5.1           3  0.054856\n",
       "5  202405030101       6        146.9           9  0.047228\n",
       "6  202405030101       7          6.4           4  0.044341\n",
       "9  202405030101      10         19.9           7  0.037462\n",
       "7  202405030101       8        163.3          10  0.037417"
      ]
     },
     "execution_count": 20,
     "metadata": {},
     "output_type": "execute_result"
    }
   ],
   "source": [
    "# オッズ除外モデルでの予測\n",
    "prediction.predict(\n",
    "    features,\n",
    "    model_filename=\"model_odds_removed.pkl\",\n",
    "    config_filepath=\"config_odds_removed.yaml\"\n",
    ")"
   ]
  },
  {
   "cell_type": "code",
   "execution_count": null,
   "metadata": {},
   "outputs": [],
   "source": []
  }
 ],
 "metadata": {
  "kernelspec": {
   "display_name": "Python 3",
   "language": "python",
   "name": "python3"
  },
  "language_info": {
   "codemirror_mode": {
    "name": "ipython",
    "version": 3
   },
   "file_extension": ".py",
   "mimetype": "text/x-python",
   "name": "python",
   "nbconvert_exporter": "python",
   "pygments_lexer": "ipython3",
   "version": "3.11.4"
  }
 },
 "nbformat": 4,
 "nbformat_minor": 2
}
